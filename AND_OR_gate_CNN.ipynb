{
  "nbformat": 4,
  "nbformat_minor": 0,
  "metadata": {
    "colab": {
      "provenance": []
    },
    "kernelspec": {
      "name": "python3",
      "display_name": "Python 3"
    },
    "language_info": {
      "name": "python"
    }
  },
  "cells": [
    {
      "cell_type": "code",
      "source": [
        "\n",
        "import numpy as np\n",
        "\n",
        "l = np.array([[0, 0], [0, 1], [1, 0], [1, 1]])\n",
        "\n",
        "label = np.array([0, 1, 1, 1])\n",
        "\n",
        "w = [1, 0.5]\n",
        "theta = 0.5\n",
        "learning = 0.1\n",
        "n = -1\n",
        "epoch = 5\n",
        "\n",
        "for j in range(0, epoch):\n",
        "    for i in range(0, l.shape[0]):\n",
        "        actual = label[i]\n",
        "        instance = l[i]\n",
        "\n",
        "        x1 = instance[0]\n",
        "        x2 = instance[1]\n",
        "\n",
        "        net = w[0] * x1 + w[1] * x2 - theta\n",
        "\n",
        "        if net > 0:\n",
        "            y = 1\n",
        "        else:\n",
        "            y = 0\n",
        "        delta = actual - y\n",
        "\n",
        "        if delta != 0:\n",
        "            w[0] = w[0] + learning * delta * x1\n",
        "            w[1] = w[1] + learning * delta * x2\n",
        "            theta = n * delta * learning + theta\n",
        "\n",
        "        print(\"calculate value\", y, \"actual value\", delta)\n",
        "\n",
        "    print(\"Y=\", y, \"T-Y=\", delta)\n",
        "print(\"---------------\")\n",
        "\n",
        "print(w)\n",
        "print(theta)"
      ],
      "metadata": {
        "colab": {
          "base_uri": "https://localhost:8080/"
        },
        "id": "v3gc_6pHJ2zZ",
        "outputId": "e7f39051-a4e1-475e-85d7-1d03d71fd54e"
      },
      "execution_count": 22,
      "outputs": [
        {
          "output_type": "stream",
          "name": "stdout",
          "text": [
            "calculate value 0 actual value 0\n",
            "calculate value 0 actual value 1\n",
            "calculate value 1 actual value 0\n",
            "calculate value 1 actual value 0\n",
            "Y= 1 T-Y= 0\n",
            "calculate value 0 actual value 0\n",
            "calculate value 1 actual value 0\n",
            "calculate value 1 actual value 0\n",
            "calculate value 1 actual value 0\n",
            "Y= 1 T-Y= 0\n",
            "calculate value 0 actual value 0\n",
            "calculate value 1 actual value 0\n",
            "calculate value 1 actual value 0\n",
            "calculate value 1 actual value 0\n",
            "Y= 1 T-Y= 0\n",
            "calculate value 0 actual value 0\n",
            "calculate value 1 actual value 0\n",
            "calculate value 1 actual value 0\n",
            "calculate value 1 actual value 0\n",
            "Y= 1 T-Y= 0\n",
            "calculate value 0 actual value 0\n",
            "calculate value 1 actual value 0\n",
            "calculate value 1 actual value 0\n",
            "calculate value 1 actual value 0\n",
            "Y= 1 T-Y= 0\n",
            "---------------\n",
            "[1.0, 0.6]\n",
            "0.4\n"
          ]
        }
      ]
    },
    {
      "cell_type": "code",
      "execution_count": 13,
      "metadata": {
        "id": "nbHuhnCIAtE2"
      },
      "outputs": [],
      "source": [
        "import numpy as np"
      ]
    },
    {
      "cell_type": "code",
      "source": [
        "# initial values\n",
        "INPUTS = np.array([[1, 1], [1, -1], [-1, 1], [-1, -1]])\n",
        "LEARNING_RATE = 0.1\n"
      ],
      "metadata": {
        "id": "B0GS1dWFDG9i"
      },
      "execution_count": 14,
      "outputs": []
    },
    {
      "cell_type": "code",
      "source": [
        "# step function (activation function)\n",
        "def step_function(sum):\n",
        "    if sum >= 0:\n",
        "        return 1\n",
        "    return -1"
      ],
      "metadata": {
        "id": "rCkeIii8DI1J"
      },
      "execution_count": 15,
      "outputs": []
    },
    {
      "cell_type": "code",
      "source": [
        "# calculateing output\n",
        "def calculate_output(weights, instance, bias):\n",
        "    sum = instance.dot(weights) + bias\n",
        "    return step_function(sum)"
      ],
      "metadata": {
        "id": "T6xwqS5HDK2p"
      },
      "execution_count": 16,
      "outputs": []
    },
    {
      "cell_type": "code",
      "source": [
        "# Adaline Algorithm\n",
        "def adaline(outputs, weights, bias):\n",
        "    total_error = 1\n",
        "    counter = 0\n",
        "    while total_error != 0 and counter < 10:\n",
        "\n",
        "        total_error = 0\n",
        "        counter += 1\n",
        "        for i in range(len(outputs)):\n",
        "            sum = INPUTS[i].dot(weights) + bias\n",
        "            prediction = step_function(sum)\n",
        "\n",
        "            total_error += outputs[i] - prediction\n",
        "            error = outputs[i] - sum\n",
        "\n",
        "            if outputs[i] != prediction:\n",
        "                weights[0] = weights[0] + (LEARNING_RATE * error * INPUTS[i][0])\n",
        "                weights[1] = weights[1] + (LEARNING_RATE * error * INPUTS[i][1])\n",
        "                bias = bias + (LEARNING_RATE * error)\n",
        "                print(\"Weight updated: \" + str(weights[0]))\n",
        "                print(\"Weight updated: \" + str(weights[1]))\n",
        "                print(\"Bias updated`: \" + str(bias))\n",
        "                print(\"----------------------------------------\")\n",
        "\n",
        "        print(\"Total error: \" + str(total_error))\n",
        "        print(\"----------------------------------------\")\n",
        "\n",
        "    return weights, bias\n"
      ],
      "metadata": {
        "id": "sgwW5tN8DNSY"
      },
      "execution_count": 17,
      "outputs": []
    },
    {
      "cell_type": "code",
      "source": [
        "# Perceptron Algorithm\n",
        "def perceptron(outputs, weights, bias):\n",
        "    total_error = 1\n",
        "    counter = 0\n",
        "    while total_error != 0 and counter < 10:\n",
        "\n",
        "        total_error = 0\n",
        "        counter += 1\n",
        "        for i in range(len(outputs)):\n",
        "            sum = INPUTS[i].dot(weights)\n",
        "            prediction = step_function(sum + bias)\n",
        "\n",
        "            total_error += outputs[i] - prediction\n",
        "\n",
        "            if outputs[i] != prediction:\n",
        "                weights[0] = weights[0] + (LEARNING_RATE * outputs[i] * INPUTS[i][0])\n",
        "                weights[1] = weights[1] + (LEARNING_RATE * outputs[i] * INPUTS[i][1])\n",
        "                bias = bias + (LEARNING_RATE * outputs[i])\n",
        "                print(\"Weight updated: \" + str(weights[0]))\n",
        "                print(\"Weight updated: \" + str(weights[1]))\n",
        "                print(\"Bias updated: \" + str(bias))\n",
        "                print(\"----------------------------------------\")\n",
        "\n",
        "        print(\"Total error: \" + str(total_error))\n",
        "        print(\"----------------------------------------\")\n",
        "\n",
        "    return weights, bias"
      ],
      "metadata": {
        "id": "jqN0t0kADQfR"
      },
      "execution_count": 18,
      "outputs": []
    },
    {
      "cell_type": "code",
      "source": [
        "# Hebb Algorithm\n",
        "def hebb(outputs, weights, bias):\n",
        "    for i in range(4):\n",
        "\n",
        "        weights[0] = weights[0] + (INPUTS[i][0] * outputs[i])\n",
        "        weights[1] = weights[1] + (INPUTS[i][1] * outputs[i])\n",
        "        bias = bias + (1 * outputs[i])\n",
        "\n",
        "        print(\"Weight updated: \" + str(weights[0]))\n",
        "        print(\"Weight updated: \" + str(weights[1]))\n",
        "        print(\"Bias updated: \" + str(bias))\n",
        "        print(\"----------------------------------------\")\n",
        "\n",
        "    return weights, bias\n",
        "\n"
      ],
      "metadata": {
        "id": "tHUDavQJDVga"
      },
      "execution_count": 19,
      "outputs": []
    },
    {
      "cell_type": "code",
      "source": [
        "if __name__ == \"__main__\":\n",
        "    and_outputs = np.array([1, -1, -1, -1])\n",
        "    or_outputs = np.array([1, 1, 1, -1])\n",
        "    weights = np.array([0.0, 0.0])\n",
        "    bias = 0\n",
        "\n",
        "    type_selector = input(\n",
        "        \"Please, enter which gate do you want? (and, or) (0 for exit): \"\n",
        "    ).strip()\n",
        "    algorithm_selector = input(\n",
        "        \"Please, enter which algorithm do you want to run? (Hebb, Perceptron, Adaline) (0 for exit): \"\n",
        "    ).strip()\n",
        "\n",
        "    while type_selector!= \"0\" and algorithm_selector != \"0\":\n",
        "\n",
        "        if type_selector.lower() == \"or\":\n",
        "            match algorithm_selector.lower():\n",
        "                case \"hebb\":\n",
        "                    returned_weights, returned_bias = hebb(or_outputs, weights, bias)\n",
        "                case \"perceptron\":\n",
        "                    returned_weights, returned_bias = perceptron(or_outputs, weights, bias)\n",
        "                case \"adaline\":\n",
        "                    returned_weights, returned_bias = adaline(or_outputs, weights, bias)\n",
        "\n",
        "\n",
        "        elif type_selector.lower() == \"and\":\n",
        "\n",
        "            match algorithm_selector.lower():\n",
        "                case \"hebb\":\n",
        "                    returned_weights, returned_bias = hebb(and_outputs, weights, bias)\n",
        "                case \"perceptron\":\n",
        "                    returned_weights, returned_bias = perceptron(and_outputs, weights, bias)\n",
        "                case \"adaline\":\n",
        "                    returned_weights, returned_bias = adaline(and_outputs, weights, bias)\n",
        "\n",
        "        print('prediction for [1, 1]: ' + str(calculate_output(returned_weights, np.array([[1, 1]]), returned_bias)))\n",
        "        print('prediction for [1, -1]: ' + str(calculate_output(returned_weights, np.array([[1, -1]]), returned_bias)))\n",
        "        print('prediction for [-1, 1]: ' + str(calculate_output(returned_weights, np.array([[-1, 1]]), returned_bias)))\n",
        "        print('prediction for [-1, -1]: ' + str(calculate_output(returned_weights, np.array([[-1, -1]]), returned_bias)))\n",
        "\n",
        "        type_selector = input(\n",
        "            \"Please, enter which gate do you want? (and, or) (0 for exit): \"\n",
        "        ).strip()\n",
        "        algorithm_selector = input(\n",
        "            \"Please, enter which algorithm do you want to run? (Hebb, Perceptron, Adaline) (0 for exit): \"\n",
        "        ).strip()"
      ],
      "metadata": {
        "colab": {
          "base_uri": "https://localhost:8080/",
          "height": 806
        },
        "id": "oPryTMdGElpo",
        "outputId": "21882f64-bd12-49b2-bc19-cb65d29d19c8"
      },
      "execution_count": 20,
      "outputs": [
        {
          "output_type": "stream",
          "name": "stdout",
          "text": [
            "Please, enter which gate do you want? (and, or) (0 for exit): or\n",
            "Please, enter which algorithm do you want to run? (Hebb, Perceptron, Adaline) (0 for exit): perceptron\n",
            "Weight updated: 0.1\n",
            "Weight updated: 0.1\n",
            "Bias updated: -0.1\n",
            "----------------------------------------\n",
            "Total error: -2\n",
            "----------------------------------------\n",
            "Weight updated: 0.2\n",
            "Weight updated: 0.0\n",
            "Bias updated: 0.0\n",
            "----------------------------------------\n",
            "Weight updated: 0.1\n",
            "Weight updated: 0.1\n",
            "Bias updated: 0.1\n",
            "----------------------------------------\n",
            "Total error: 4\n",
            "----------------------------------------\n",
            "Total error: 0\n",
            "----------------------------------------\n",
            "prediction for [1, 1]: 1\n",
            "prediction for [1, -1]: 1\n",
            "prediction for [-1, 1]: 1\n",
            "prediction for [-1, -1]: -1\n"
          ]
        },
        {
          "output_type": "error",
          "ename": "KeyboardInterrupt",
          "evalue": "ignored",
          "traceback": [
            "\u001b[0;31m---------------------------------------------------------------------------\u001b[0m",
            "\u001b[0;31mKeyboardInterrupt\u001b[0m                         Traceback (most recent call last)",
            "\u001b[0;32m<ipython-input-20-711406714de2>\u001b[0m in \u001b[0;36m<cell line: 1>\u001b[0;34m()\u001b[0m\n\u001b[1;32m     39\u001b[0m         \u001b[0mprint\u001b[0m\u001b[0;34m(\u001b[0m\u001b[0;34m'prediction for [-1, -1]: '\u001b[0m \u001b[0;34m+\u001b[0m \u001b[0mstr\u001b[0m\u001b[0;34m(\u001b[0m\u001b[0mcalculate_output\u001b[0m\u001b[0;34m(\u001b[0m\u001b[0mreturned_weights\u001b[0m\u001b[0;34m,\u001b[0m \u001b[0mnp\u001b[0m\u001b[0;34m.\u001b[0m\u001b[0marray\u001b[0m\u001b[0;34m(\u001b[0m\u001b[0;34m[\u001b[0m\u001b[0;34m[\u001b[0m\u001b[0;34m-\u001b[0m\u001b[0;36m1\u001b[0m\u001b[0;34m,\u001b[0m \u001b[0;34m-\u001b[0m\u001b[0;36m1\u001b[0m\u001b[0;34m]\u001b[0m\u001b[0;34m]\u001b[0m\u001b[0;34m)\u001b[0m\u001b[0;34m,\u001b[0m \u001b[0mreturned_bias\u001b[0m\u001b[0;34m)\u001b[0m\u001b[0;34m)\u001b[0m\u001b[0;34m)\u001b[0m\u001b[0;34m\u001b[0m\u001b[0;34m\u001b[0m\u001b[0m\n\u001b[1;32m     40\u001b[0m \u001b[0;34m\u001b[0m\u001b[0m\n\u001b[0;32m---> 41\u001b[0;31m         type_selector = input(\n\u001b[0m\u001b[1;32m     42\u001b[0m             \u001b[0;34m\"Please, enter which gate do you want? (and, or) (0 for exit): \"\u001b[0m\u001b[0;34m\u001b[0m\u001b[0;34m\u001b[0m\u001b[0m\n\u001b[1;32m     43\u001b[0m         ).strip()\n",
            "\u001b[0;32m/usr/local/lib/python3.10/dist-packages/ipykernel/kernelbase.py\u001b[0m in \u001b[0;36mraw_input\u001b[0;34m(self, prompt)\u001b[0m\n\u001b[1;32m    849\u001b[0m                 \u001b[0;34m\"raw_input was called, but this frontend does not support input requests.\"\u001b[0m\u001b[0;34m\u001b[0m\u001b[0;34m\u001b[0m\u001b[0m\n\u001b[1;32m    850\u001b[0m             )\n\u001b[0;32m--> 851\u001b[0;31m         return self._input_request(str(prompt),\n\u001b[0m\u001b[1;32m    852\u001b[0m             \u001b[0mself\u001b[0m\u001b[0;34m.\u001b[0m\u001b[0m_parent_ident\u001b[0m\u001b[0;34m,\u001b[0m\u001b[0;34m\u001b[0m\u001b[0;34m\u001b[0m\u001b[0m\n\u001b[1;32m    853\u001b[0m             \u001b[0mself\u001b[0m\u001b[0;34m.\u001b[0m\u001b[0m_parent_header\u001b[0m\u001b[0;34m,\u001b[0m\u001b[0;34m\u001b[0m\u001b[0;34m\u001b[0m\u001b[0m\n",
            "\u001b[0;32m/usr/local/lib/python3.10/dist-packages/ipykernel/kernelbase.py\u001b[0m in \u001b[0;36m_input_request\u001b[0;34m(self, prompt, ident, parent, password)\u001b[0m\n\u001b[1;32m    893\u001b[0m             \u001b[0;32mexcept\u001b[0m \u001b[0mKeyboardInterrupt\u001b[0m\u001b[0;34m:\u001b[0m\u001b[0;34m\u001b[0m\u001b[0;34m\u001b[0m\u001b[0m\n\u001b[1;32m    894\u001b[0m                 \u001b[0;31m# re-raise KeyboardInterrupt, to truncate traceback\u001b[0m\u001b[0;34m\u001b[0m\u001b[0;34m\u001b[0m\u001b[0m\n\u001b[0;32m--> 895\u001b[0;31m                 \u001b[0;32mraise\u001b[0m \u001b[0mKeyboardInterrupt\u001b[0m\u001b[0;34m(\u001b[0m\u001b[0;34m\"Interrupted by user\"\u001b[0m\u001b[0;34m)\u001b[0m \u001b[0;32mfrom\u001b[0m \u001b[0;32mNone\u001b[0m\u001b[0;34m\u001b[0m\u001b[0;34m\u001b[0m\u001b[0m\n\u001b[0m\u001b[1;32m    896\u001b[0m             \u001b[0;32mexcept\u001b[0m \u001b[0mException\u001b[0m \u001b[0;32mas\u001b[0m \u001b[0me\u001b[0m\u001b[0;34m:\u001b[0m\u001b[0;34m\u001b[0m\u001b[0;34m\u001b[0m\u001b[0m\n\u001b[1;32m    897\u001b[0m                 \u001b[0mself\u001b[0m\u001b[0;34m.\u001b[0m\u001b[0mlog\u001b[0m\u001b[0;34m.\u001b[0m\u001b[0mwarning\u001b[0m\u001b[0;34m(\u001b[0m\u001b[0;34m\"Invalid Message:\"\u001b[0m\u001b[0;34m,\u001b[0m \u001b[0mexc_info\u001b[0m\u001b[0;34m=\u001b[0m\u001b[0;32mTrue\u001b[0m\u001b[0;34m)\u001b[0m\u001b[0;34m\u001b[0m\u001b[0;34m\u001b[0m\u001b[0m\n",
            "\u001b[0;31mKeyboardInterrupt\u001b[0m: Interrupted by user"
          ]
        }
      ]
    }
  ]
}